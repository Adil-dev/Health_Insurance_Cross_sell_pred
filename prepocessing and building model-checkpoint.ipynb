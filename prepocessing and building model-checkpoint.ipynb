{
 "cells": [
  {
   "cell_type": "markdown",
   "metadata": {
    "ExecuteTime": {
     "end_time": "2020-10-19T05:02:12.339068Z",
     "start_time": "2020-10-19T05:01:55.063011Z"
    }
   },
   "source": [
    "# TRAINING"
   ]
  },
  {
   "cell_type": "code",
   "execution_count": 2,
   "metadata": {
    "ExecuteTime": {
     "end_time": "2020-10-21T13:39:46.195430Z",
     "start_time": "2020-10-21T13:39:23.056627Z"
    }
   },
   "outputs": [],
   "source": [
    "import pandas as pd\n",
    "import numpy as np\n",
    "from sklearn.metrics import roc_auc_score\n",
    "from sklearn.model_selection import KFold\n",
    "from sklearn.preprocessing import MinMaxScaler\n",
    "import lightgbm as lgb\n",
    "import pickle"
   ]
  },
  {
   "cell_type": "code",
   "execution_count": 3,
   "metadata": {
    "ExecuteTime": {
     "end_time": "2020-10-21T13:39:47.396113Z",
     "start_time": "2020-10-21T13:39:46.198448Z"
    }
   },
   "outputs": [],
   "source": [
    "df = pd.read_csv('train.csv', sep=',', index_col=['id'])\n",
    "\n",
    "va = {'> 2 Years': 2, '1-2 Year': 1, '< 1 Year': 0}\n",
    "gen = {'Male' : 0, 'Female' : 1}\n",
    "vg = {'Yes' : 1, 'No' : 0}\n",
    "df['Vehicle_Age'] = df['Vehicle_Age'].map(va)\n",
    "df['Gender'] = df['Gender'].map(gen)\n",
    "df['Vehicle_Damage'] = df['Vehicle_Damage'].map(vg)\n",
    "\n",
    "num_feat = ['Age', 'Vintage']\n",
    "\n",
    "cat_feat = [\n",
    "    'Gender', 'Previously_Insured', 'Vehicle_Age', 'Vehicle_Damage',\n",
    "    'Driving_License', 'Policy_Sales_Channel', 'Region_Code'\n",
    "]\n",
    "\n"
   ]
  },
  {
   "cell_type": "code",
   "execution_count": 4,
   "metadata": {
    "ExecuteTime": {
     "end_time": "2020-10-21T13:39:47.571632Z",
     "start_time": "2020-10-21T13:39:47.398106Z"
    }
   },
   "outputs": [
    {
     "output_type": "execute_result",
     "data": {
      "text/plain": [
       "         Age   Vintage  Gender  Previously_Insured  Vehicle_Age  \\\n",
       "id                                                                \n",
       "1   0.369231  0.716263       0                   0            2   \n",
       "2   0.861538  0.598616       0                   0            1   \n",
       "3   0.415385  0.058824       0                   0            2   \n",
       "4   0.015385  0.667820       0                   1            0   \n",
       "5   0.138462  0.100346       1                   1            0   \n",
       "\n",
       "    Vehicle_Damage  Driving_License  Policy_Sales_Channel  Region_Code  \n",
       "id                                                                      \n",
       "1                1                1                  26.0         28.0  \n",
       "2                0                1                  26.0          3.0  \n",
       "3                1                1                  26.0         28.0  \n",
       "4                0                1                 152.0         11.0  \n",
       "5                0                1                 152.0         41.0  "
      ],
      "text/html": "<div>\n<style scoped>\n    .dataframe tbody tr th:only-of-type {\n        vertical-align: middle;\n    }\n\n    .dataframe tbody tr th {\n        vertical-align: top;\n    }\n\n    .dataframe thead th {\n        text-align: right;\n    }\n</style>\n<table border=\"1\" class=\"dataframe\">\n  <thead>\n    <tr style=\"text-align: right;\">\n      <th></th>\n      <th>Age</th>\n      <th>Vintage</th>\n      <th>Gender</th>\n      <th>Previously_Insured</th>\n      <th>Vehicle_Age</th>\n      <th>Vehicle_Damage</th>\n      <th>Driving_License</th>\n      <th>Policy_Sales_Channel</th>\n      <th>Region_Code</th>\n    </tr>\n    <tr>\n      <th>id</th>\n      <th></th>\n      <th></th>\n      <th></th>\n      <th></th>\n      <th></th>\n      <th></th>\n      <th></th>\n      <th></th>\n      <th></th>\n    </tr>\n  </thead>\n  <tbody>\n    <tr>\n      <th>1</th>\n      <td>0.369231</td>\n      <td>0.716263</td>\n      <td>0</td>\n      <td>0</td>\n      <td>2</td>\n      <td>1</td>\n      <td>1</td>\n      <td>26.0</td>\n      <td>28.0</td>\n    </tr>\n    <tr>\n      <th>2</th>\n      <td>0.861538</td>\n      <td>0.598616</td>\n      <td>0</td>\n      <td>0</td>\n      <td>1</td>\n      <td>0</td>\n      <td>1</td>\n      <td>26.0</td>\n      <td>3.0</td>\n    </tr>\n    <tr>\n      <th>3</th>\n      <td>0.415385</td>\n      <td>0.058824</td>\n      <td>0</td>\n      <td>0</td>\n      <td>2</td>\n      <td>1</td>\n      <td>1</td>\n      <td>26.0</td>\n      <td>28.0</td>\n    </tr>\n    <tr>\n      <th>4</th>\n      <td>0.015385</td>\n      <td>0.667820</td>\n      <td>0</td>\n      <td>1</td>\n      <td>0</td>\n      <td>0</td>\n      <td>1</td>\n      <td>152.0</td>\n      <td>11.0</td>\n    </tr>\n    <tr>\n      <th>5</th>\n      <td>0.138462</td>\n      <td>0.100346</td>\n      <td>1</td>\n      <td>1</td>\n      <td>0</td>\n      <td>0</td>\n      <td>1</td>\n      <td>152.0</td>\n      <td>41.0</td>\n    </tr>\n  </tbody>\n</table>\n</div>"
     },
     "metadata": {},
     "execution_count": 4
    }
   ],
   "source": [
    "scl = MinMaxScaler()\n",
    "\n",
    "num_scl = pd.DataFrame(scl.fit_transform(df[num_feat]))\n",
    "num_scl.index = df[num_feat].index\n",
    "num_scl.columns = df[num_feat].columns\n",
    "X_ = pd.concat([num_scl, df[cat_feat]], axis=1)\n",
    "X_.head()"
   ]
  },
  {
   "cell_type": "code",
   "execution_count": 5,
   "metadata": {
    "ExecuteTime": {
     "end_time": "2020-10-21T13:39:47.587546Z",
     "start_time": "2020-10-21T13:39:47.574556Z"
    }
   },
   "outputs": [
    {
     "output_type": "execute_result",
     "data": {
      "text/plain": [
       "((381109, 9), (381109,))"
      ]
     },
     "metadata": {},
     "execution_count": 5
    }
   ],
   "source": [
    "y = df.Response\n",
    "X_.shape, y.shape"
   ]
  },
  {
   "cell_type": "code",
   "execution_count": 6,
   "metadata": {},
   "outputs": [],
   "source": [
    "params = {\n",
    "    'reg_lambda': 1.8,\n",
    "    'reg_alpha': 0.9,\n",
    "    'num_leaves': 80,\n",
    "    'min_child_weight': 1,\n",
    "    'max_depth': 6,\n",
    "    'learning_rate': 0.12,\n",
    "    'feature_fraction': 0.5,\n",
    "    'bagging_fraction': 0.5,\n",
    "    'objective': 'binary',\n",
    "    \"boosting_type\": \"gbdt\",\n",
    "    \"bagging_seed\": 23,\n",
    "    \"metric\": 'auc',\n",
    "    \"verbosity\": -1,\n",
    "    'num_iterations' : 90\n",
    "}"
   ]
  },
  {
   "cell_type": "code",
   "execution_count": 7,
   "metadata": {
    "ExecuteTime": {
     "end_time": "2020-10-21T13:40:26.185247Z",
     "start_time": "2020-10-21T13:40:26.081223Z"
    }
   },
   "outputs": [],
   "source": [
    "n_folds = 5\n",
    "fold = KFold(shuffle=True)\n",
    "splits = fold.split(X_, y)\n",
    "columns = X_.columns\n",
    "oof = np.zeros(X_.shape[0])\n",
    "score = 0\n",
    "y_oof = np.zeros(X_.shape[0])\n",
    "feature_importances = pd.DataFrame()\n",
    "feature_importances['feature'] = columns"
   ]
  },
  {
   "cell_type": "code",
   "execution_count": 8,
   "metadata": {
    "ExecuteTime": {
     "end_time": "2020-10-21T13:40:50.919053Z",
     "start_time": "2020-10-21T13:40:26.189222Z"
    }
   },
   "outputs": [
    {
     "output_type": "stream",
     "name": "stdout",
     "text": [
      "Fold 1 | AUC: 0.8578106419717229\n",
      "Fold 2 | AUC: 0.8588193518587356\n",
      "Fold 3 | AUC: 0.8555661883073996\n",
      "Fold 4 | AUC: 0.8580452057000232\n",
      "Fold 5 | AUC: 0.8581888861949065\n",
      "\n",
      "Mean AUC = 0.8576860548065576\n",
      "Out of folds AUC = 0.8576623133465945\n"
     ]
    }
   ],
   "source": [
    "#обучение лаитгбм на фолдах. Обратите внимания на параметры lgb.train, lgb.Dataset\n",
    "\n",
    "for fold_n, (train_index, valid_index) in enumerate(splits):\n",
    "    X_train, X_valid = X_[columns].iloc[train_index], X_[columns].iloc[valid_index]\n",
    "    y_train, y_valid = y.iloc[train_index], y.iloc[valid_index]\n",
    "    \n",
    "    dtrain = lgb.Dataset(X_train, label = y_train)\n",
    "    dvalid = lgb.Dataset(X_valid, label = y_valid)\n",
    "    \n",
    "    clf = lgb.train(params, dtrain, 80, valid_sets=[dtrain, dvalid], \n",
    "                    verbose_eval=100)\n",
    "    \n",
    "    feature_importances[f'fold_{fold_n + 1}'] = clf.feature_importance()\n",
    "    \n",
    "    y_pred_valid = clf.predict(X_valid)\n",
    "    y_oof[valid_index] = y_pred_valid\n",
    "    print(f\"Fold {fold_n + 1} | AUC: {roc_auc_score(y_valid, y_pred_valid)}\")\n",
    "    score += roc_auc_score(y_valid, y_pred_valid) / n_folds\n",
    "    \n",
    "print(f\"\\nMean AUC = {score}\")\n",
    "print(f\"Out of folds AUC = {roc_auc_score(y, y_oof)}\")"
   ]
  },
  {
   "cell_type": "code",
   "execution_count": 9,
   "metadata": {},
   "outputs": [],
   "source": [
    "pickle_out = open('clf.pkl', 'wb')\n",
    "pickle.dump(clf, pickle_out)\n",
    "pickle_out.close()"
   ]
  }
 ],
 "metadata": {
  "kernelspec": {
   "display_name": "Python 3",
   "language": "python",
   "name": "python3"
  },
  "language_info": {
   "codemirror_mode": {
    "name": "ipython",
    "version": 3
   },
   "file_extension": ".py",
   "mimetype": "text/x-python",
   "name": "python",
   "nbconvert_exporter": "python",
   "pygments_lexer": "ipython3",
   "version": "3.6.6-final"
  },
  "toc": {
   "base_numbering": 1,
   "nav_menu": {},
   "number_sections": true,
   "sideBar": true,
   "skip_h1_title": false,
   "title_cell": "Table of Contents",
   "title_sidebar": "Contents",
   "toc_cell": false,
   "toc_position": {},
   "toc_section_display": true,
   "toc_window_display": false
  }
 },
 "nbformat": 4,
 "nbformat_minor": 4
}